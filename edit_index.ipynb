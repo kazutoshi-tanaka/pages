{
 "cells": [
  {
   "cell_type": "code",
   "execution_count": 53,
   "metadata": {},
   "outputs": [],
   "source": [
    "import yaml\n",
    "\n",
    "with open(\"contents.yaml\", 'r') as yml:\n",
    "    config = yaml.safe_load(yml)\n",
    "\n"
   ]
  },
  {
   "cell_type": "code",
   "execution_count": 60,
   "metadata": {},
   "outputs": [
    {
     "name": "stdout",
     "output_type": "stream",
     "text": [
      "{False, 'journal', 'vol', 'blog_ja', 'publisher', 'pages', 'doi', 'year', 'url', 'title', 'page', 'month', 'author'}\n"
     ]
    }
   ],
   "source": [
    "# print(config['link'])\n",
    "# print(\"<div>\")\n",
    "# print(\"<h2>リンク・連絡先</h2>\")\n",
    "# for c in config['link']:\n",
    "#     service = c['service']\n",
    "#     url = c['url']\n",
    "#     print(\"  <a href=\\\"{}\\\">{}</a>/\".format(service, url))\n",
    "# print(\"  (Mail) kazutoshi.tanaka(at)sinicx.com\")\n",
    "# print(\"</div>\")\n",
    "\n",
    "# print(config['education'])\n",
    "# print(\"<div>\")\n",
    "# print(\"<h2>学歴</h2>\")\n",
    "# print(\"<ul>\")\n",
    "# for c in config['education']:\n",
    "#     day = c['day']\n",
    "#     affiliation_ = c['affiliation']\n",
    "#     event = c['event']\n",
    "#     # print(affiliation_)\n",
    "#     affiliation = \" \".join(affiliation_)\n",
    "#     print(\"  <li>{} {} {}</li>\".format(day, affiliation, event))\n",
    "# print(\"</ul>\")\n",
    "# print(\"</div>\")\n",
    "\n",
    "# print(\"<div>\")\n",
    "# print(\"<h2>職歴</h2>\")\n",
    "# print(\"<ul>\")\n",
    "# for c in config['career']:\n",
    "#     day = c['day']\n",
    "#     affiliation_ = c['affiliation']\n",
    "#     position = c['position']\n",
    "#     affiliation = \" \".join(affiliation_)\n",
    "#     print(\"  <li>{} {} {}</li>\".format(day, affiliation, position))\n",
    "# print(\"</ul>\")\n",
    "# print(\"</div>\")\n",
    "\n",
    "# print(\"<div>\")\n",
    "# print(\"<h2>委員・活動</h2>\")\n",
    "# print(\"<ul>\")\n",
    "# for c in config['activity']:\n",
    "#     day = c['day']\n",
    "#     position = c['position']\n",
    "#     print(\"  <li>{} {}</li>\".format(day, position))\n",
    "# print(\"</ul>\")\n",
    "# print(\"</div>\")\n",
    "\n",
    "print(\"<div>\")\n",
    "print(\"<h2>論文</h2>\")\n",
    "print(\"<h3>国際論文誌（査読付き）</h3>\")\n",
    "print(\"<ol>\")\n",
    "for c in config['article']:\n",
    "    s = c['title'] + ', ' + \", \".join(c['author']) + \", \" + c['journal'] + \", \"\n",
    "    if 'vol' in c:\n",
    "        s = \"{} vol. {}, \".format(s, c['vol'])\n",
    "    if 'no' in c:\n",
    "        s = \"{} no. {}, \".format(s, c['no'])\n",
    "    if 'page' in c:\n",
    "        s = \"{} pp. {}, \".format(s, c['page'])\n",
    "    if 'publisher' in c:\n",
    "        s = \"{} {}, \".format(s, c['publisher'])\n",
    "    if 'doi' in c:\n",
    "        s = \"{} doi: {}, \".format(s, c['doi'])\n",
    "    if 'month' in c:\n",
    "        s = \"{} {}, \".format(s, c['month'])\n",
    "    s = \"{} {}.\".format(s, c['year'])\n",
    "    if 'url' in c:\n",
    "        s = s + \" <a href=\\\"{}\\\">[Paper]</a>\".format(c['url'])\n",
    "    if 'video' in c:\n",
    "        s = s + \" <a href=\\\"{}\\\">[Video]</a>\".format(c['video'])\n",
    "    if 'blog_ja' in c:\n",
    "        s = s + \" <a href=\\\"{}\\\">[Blog(Ja)]</a>\".format(c['blog_ja'])\n",
    "    print(\"  <li>{}</li>\".format(s))\n",
    "print(\"</ol>\")\n",
    "\n",
    "keys = []\n",
    "for c in config['article']:\n",
    "    for k in list(c.keys()):\n",
    "        keys.append(k)\n",
    "# print(keys)\n",
    "print(set(keys))\n"
   ]
  },
  {
   "cell_type": "code",
   "execution_count": null,
   "metadata": {},
   "outputs": [],
   "source": [
    "\n"
   ]
  }
 ],
 "metadata": {
  "kernelspec": {
   "display_name": "base",
   "language": "python",
   "name": "python3"
  },
  "language_info": {
   "codemirror_mode": {
    "name": "ipython",
    "version": 3
   },
   "file_extension": ".py",
   "mimetype": "text/x-python",
   "name": "python",
   "nbconvert_exporter": "python",
   "pygments_lexer": "ipython3",
   "version": "3.7.11"
  },
  "orig_nbformat": 4
 },
 "nbformat": 4,
 "nbformat_minor": 2
}
